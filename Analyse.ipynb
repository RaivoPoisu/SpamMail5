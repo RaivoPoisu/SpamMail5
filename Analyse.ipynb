{
 "cells": [
  {
   "cell_type": "code",
   "execution_count": null,
   "id": "2d2abfde-6ffd-4eb9-9410-5806776b591e",
   "metadata": {},
   "outputs": [],
   "source": [
    "#suur dataset, mdea kui hea kvaliteet, aga sitaks andmeid\n",
    "!pip install kagglehub\n",
    "import kagglehub\n",
    "\n",
    "path = kagglehub.dataset_download(\"meruvulikith/190k-spam-ham-email-dataset-for-classification\")"
   ]
  },
  {
   "cell_type": "code",
   "execution_count": null,
   "id": "58fc6fe2-14f4-40ab-9e87-cb95cb9f6c34",
   "metadata": {},
   "outputs": [],
   "source": [
    "#linux\n",
    "!mv {path} ."
   ]
  },
  {
   "cell_type": "code",
   "execution_count": null,
   "id": "b279dfe7-64da-466e-aa59-8b7d41efbadb",
   "metadata": {},
   "outputs": [],
   "source": [
    "#windows\n",
    "!move {path} ."
   ]
  },
  {
   "cell_type": "code",
   "execution_count": 1,
   "id": "e6bf4eba-a570-43aa-8a9a-aecb980dc770",
   "metadata": {},
   "outputs": [],
   "source": [
    "import numpy as np\n",
    "import pandas as pd\n",
    "import ast\n",
    "import importlib\n",
    "SpamData= pd.read_csv(\"1/spam_Emails_data.csv\")"
   ]
  },
  {
   "cell_type": "code",
   "execution_count": 2,
   "id": "3c299a4e-25f5-4395-a076-a6bd16391136",
   "metadata": {},
   "outputs": [],
   "source": [
    "SpamData[\"label\"]=SpamData[\"label\"].apply(lambda x: 0 if x==\"Ham\" else 1)\n",
    "SpamData[\"text\"]=SpamData[\"text\"].apply(lambda x:x if not isinstance(x, (int, float, complex)) and not isinstance(x, bool) else str(x)) "
   ]
  },
  {
   "cell_type": "code",
   "execution_count": 3,
   "id": "c76edb51-f5b7-48ba-9116-d66af6f4aa01",
   "metadata": {},
   "outputs": [],
   "source": [
    "SpamDataAnalyse = SpamData.copy()"
   ]
  },
  {
   "cell_type": "code",
   "execution_count": 4,
   "id": "fb2fd91f-e7fb-42c1-8eab-a354f40fe31a",
   "metadata": {},
   "outputs": [],
   "source": [
    "import Analyse\n",
    "importlib.reload(Analyse)\n",
    "SpamDataAnalyseCopy=SpamDataAnalyse.copy()\n",
    "SpamWordsDf, WordsDf = Analyse.FindWordCounts(SpamDataAnalyse)\n"
   ]
  },
  {
   "cell_type": "code",
   "execution_count": 5,
   "id": "066e96b7-3c85-4ab0-84e9-c59c1237b4d0",
   "metadata": {},
   "outputs": [
    {
     "name": "stdout",
     "output_type": "stream",
     "text": [
      "0.5269999793657016\n",
      "0\n",
      "0\n",
      "0\n"
     ]
    }
   ],
   "source": [
    "print(len(SpamDataAnalyse[SpamDataAnalyse[\"label\"]==0][\"label\"])/len(SpamDataAnalyse[\"label\"]))\n",
    "print(SpamDataAnalyseCopy.duplicated().sum())\n",
    "print(len(SpamDataAnalyseCopy[SpamDataAnalyseCopy[\"label\"]==\" \"][\"label\"]))\n",
    "print(len(SpamDataAnalyseCopy[SpamDataAnalyseCopy[\"label\"]==\"\"][\"label\"]))"
   ]
  },
  {
   "cell_type": "code",
   "execution_count": 6,
   "id": "1153e2a0-8504-4376-a8f9-364aefe704d8",
   "metadata": {},
   "outputs": [],
   "source": [
    "threshold_percentage=0.1\n",
    "tulemus = SpamWordsDf[~SpamWordsDf['word'].isin(WordsDf['word'])]"
   ]
  },
  {
   "cell_type": "code",
   "execution_count": 7,
   "id": "5cd3f24b-06bc-453e-8d9d-e53d1d8fb565",
   "metadata": {},
   "outputs": [
    {
     "data": {
      "text/html": [
       "<div>\n",
       "<style scoped>\n",
       "    .dataframe tbody tr th:only-of-type {\n",
       "        vertical-align: middle;\n",
       "    }\n",
       "\n",
       "    .dataframe tbody tr th {\n",
       "        vertical-align: top;\n",
       "    }\n",
       "\n",
       "    .dataframe thead th {\n",
       "        text-align: right;\n",
       "    }\n",
       "</style>\n",
       "<table border=\"1\" class=\"dataframe\">\n",
       "  <thead>\n",
       "    <tr style=\"text-align: right;\">\n",
       "      <th></th>\n",
       "      <th>word</th>\n",
       "      <th>count</th>\n",
       "    </tr>\n",
       "  </thead>\n",
       "  <tbody>\n",
       "    <tr>\n",
       "      <th>23734</th>\n",
       "      <td></td>\n",
       "      <td>29349</td>\n",
       "    </tr>\n",
       "    <tr>\n",
       "      <th>5167</th>\n",
       "      <td>anatrim</td>\n",
       "      <td>6459</td>\n",
       "    </tr>\n",
       "    <tr>\n",
       "      <th>14245</th>\n",
       "      <td>ffffffcescapenumber</td>\n",
       "      <td>5466</td>\n",
       "    </tr>\n",
       "    <tr>\n",
       "      <th>14247</th>\n",
       "      <td>ffffffbescapenumber</td>\n",
       "      <td>5324</td>\n",
       "    </tr>\n",
       "    <tr>\n",
       "      <th>527</th>\n",
       "      <td>wysak</td>\n",
       "      <td>4151</td>\n",
       "    </tr>\n",
       "    <tr>\n",
       "      <th>...</th>\n",
       "      <td>...</td>\n",
       "      <td>...</td>\n",
       "    </tr>\n",
       "    <tr>\n",
       "      <th>258341</th>\n",
       "      <td>d'r'o</td>\n",
       "      <td>1</td>\n",
       "    </tr>\n",
       "    <tr>\n",
       "      <th>258344</th>\n",
       "      <td>finntresa</td>\n",
       "      <td>1</td>\n",
       "    </tr>\n",
       "    <tr>\n",
       "      <th>258345</th>\n",
       "      <td>demetrissarita</td>\n",
       "      <td>1</td>\n",
       "    </tr>\n",
       "    <tr>\n",
       "      <th>113028</th>\n",
       "      <td>safetybar</td>\n",
       "      <td>1</td>\n",
       "    </tr>\n",
       "    <tr>\n",
       "      <th>0</th>\n",
       "      <td>viiiiiiagraaaa</td>\n",
       "      <td>1</td>\n",
       "    </tr>\n",
       "  </tbody>\n",
       "</table>\n",
       "<p>293147 rows × 2 columns</p>\n",
       "</div>"
      ],
      "text/plain": [
       "                       word  count\n",
       "23734                       29349\n",
       "5167                anatrim   6459\n",
       "14245   ffffffcescapenumber   5466\n",
       "14247   ffffffbescapenumber   5324\n",
       "527                   wysak   4151\n",
       "...                     ...    ...\n",
       "258341                d'r'o      1\n",
       "258344            finntresa      1\n",
       "258345       demetrissarita      1\n",
       "113028            safetybar      1\n",
       "0            viiiiiiagraaaa      1\n",
       "\n",
       "[293147 rows x 2 columns]"
      ]
     },
     "execution_count": 7,
     "metadata": {},
     "output_type": "execute_result"
    }
   ],
   "source": [
    "tulemus"
   ]
  },
  {
   "cell_type": "code",
   "execution_count": 8,
   "id": "985b41ed-c0f8-414b-bd2c-d91ad2b9fc12",
   "metadata": {},
   "outputs": [],
   "source": [
    "Words_Merged_df = pd.merge(SpamWordsDf, WordsDf, on='word', how='inner', suffixes=('_spam', '_notspam'))"
   ]
  },
  {
   "cell_type": "code",
   "execution_count": 9,
   "id": "64cd6cfa-57cd-4825-9ec4-2e99c430e939",
   "metadata": {},
   "outputs": [],
   "source": [
    "wordCountSpam=sum(SpamWordsDf[\"count\"])\n",
    "wordCount=sum(WordsDf[\"count\"])"
   ]
  },
  {
   "cell_type": "code",
   "execution_count": 10,
   "id": "b82a58b9-6c44-460b-ace9-ec7b85bc1df4",
   "metadata": {},
   "outputs": [
    {
     "name": "stdout",
     "output_type": "stream",
     "text": [
      "19363214\n",
      "34212201\n"
     ]
    }
   ],
   "source": [
    "print(wordCountSpam)\n",
    "print(wordCount)"
   ]
  },
  {
   "cell_type": "code",
   "execution_count": 11,
   "id": "649deae1-2284-426b-bf85-b57732911f71",
   "metadata": {},
   "outputs": [],
   "source": [
    "Multiplier= wordCount/wordCountSpam"
   ]
  },
  {
   "cell_type": "code",
   "execution_count": 12,
   "id": "7eff415d-ebdb-449c-a088-9ac0ab906f83",
   "metadata": {},
   "outputs": [
    {
     "name": "stderr",
     "output_type": "stream",
     "text": [
      "C:\\Users\\kasutaja\\AppData\\Local\\Temp\\ipykernel_16268\\2797132555.py:2: SettingWithCopyWarning: \n",
      "A value is trying to be set on a copy of a slice from a DataFrame\n",
      "\n",
      "See the caveats in the documentation: https://pandas.pydata.org/pandas-docs/stable/user_guide/indexing.html#returning-a-view-versus-a-copy\n",
      "  tulemusSpam.sort_values(by='count_notspam', ascending=False, inplace=True)\n"
     ]
    }
   ],
   "source": [
    "tulemusSpam=Words_Merged_df[Words_Merged_df[\"count_spam\"] > Words_Merged_df[\"count_notspam\"]*10*Multiplier]\n",
    "tulemusSpam.sort_values(by='count_notspam', ascending=False, inplace=True)"
   ]
  },
  {
   "cell_type": "code",
   "execution_count": 13,
   "id": "d0ac33b7-df57-4aa4-b334-6f39045e1353",
   "metadata": {},
   "outputs": [
    {
     "data": {
      "text/html": [
       "<div>\n",
       "<style scoped>\n",
       "    .dataframe tbody tr th:only-of-type {\n",
       "        vertical-align: middle;\n",
       "    }\n",
       "\n",
       "    .dataframe tbody tr th {\n",
       "        vertical-align: top;\n",
       "    }\n",
       "\n",
       "    .dataframe thead th {\n",
       "        text-align: right;\n",
       "    }\n",
       "</style>\n",
       "<table border=\"1\" class=\"dataframe\">\n",
       "  <thead>\n",
       "    <tr style=\"text-align: right;\">\n",
       "      <th></th>\n",
       "      <th>word</th>\n",
       "      <th>count_spam</th>\n",
       "      <th>count_notspam</th>\n",
       "    </tr>\n",
       "  </thead>\n",
       "  <tbody>\n",
       "    <tr>\n",
       "      <th>13</th>\n",
       "      <td>cescapenumber</td>\n",
       "      <td>112556</td>\n",
       "      <td>2323</td>\n",
       "    </tr>\n",
       "    <tr>\n",
       "      <th>22</th>\n",
       "      <td>aescapenumber</td>\n",
       "      <td>79015</td>\n",
       "      <td>1886</td>\n",
       "    </tr>\n",
       "    <tr>\n",
       "      <th>40</th>\n",
       "      <td>eescapenumber</td>\n",
       "      <td>43856</td>\n",
       "      <td>1555</td>\n",
       "    </tr>\n",
       "    <tr>\n",
       "      <th>45</th>\n",
       "      <td>descapenumber</td>\n",
       "      <td>40973</td>\n",
       "      <td>1000</td>\n",
       "    </tr>\n",
       "    <tr>\n",
       "      <th>14</th>\n",
       "      <td>bescapenumber</td>\n",
       "      <td>109539</td>\n",
       "      <td>992</td>\n",
       "    </tr>\n",
       "    <tr>\n",
       "      <th>...</th>\n",
       "      <td>...</td>\n",
       "      <td>...</td>\n",
       "      <td>...</td>\n",
       "    </tr>\n",
       "    <tr>\n",
       "      <th>15618</th>\n",
       "      <td>cription</td>\n",
       "      <td>40</td>\n",
       "      <td>1</td>\n",
       "    </tr>\n",
       "    <tr>\n",
       "      <th>15652</th>\n",
       "      <td>odo</td>\n",
       "      <td>40</td>\n",
       "      <td>1</td>\n",
       "    </tr>\n",
       "    <tr>\n",
       "      <th>15659</th>\n",
       "      <td>glucosamine</td>\n",
       "      <td>40</td>\n",
       "      <td>1</td>\n",
       "    </tr>\n",
       "    <tr>\n",
       "      <th>15664</th>\n",
       "      <td>iving</td>\n",
       "      <td>40</td>\n",
       "      <td>1</td>\n",
       "    </tr>\n",
       "    <tr>\n",
       "      <th>25174</th>\n",
       "      <td>mrescapenumber</td>\n",
       "      <td>18</td>\n",
       "      <td>1</td>\n",
       "    </tr>\n",
       "  </tbody>\n",
       "</table>\n",
       "<p>1672 rows × 3 columns</p>\n",
       "</div>"
      ],
      "text/plain": [
       "                 word  count_spam  count_notspam\n",
       "13      cescapenumber      112556           2323\n",
       "22      aescapenumber       79015           1886\n",
       "40      eescapenumber       43856           1555\n",
       "45      descapenumber       40973           1000\n",
       "14      bescapenumber      109539            992\n",
       "...               ...         ...            ...\n",
       "15618        cription          40              1\n",
       "15652             odo          40              1\n",
       "15659     glucosamine          40              1\n",
       "15664           iving          40              1\n",
       "25174  mrescapenumber          18              1\n",
       "\n",
       "[1672 rows x 3 columns]"
      ]
     },
     "execution_count": 13,
     "metadata": {},
     "output_type": "execute_result"
    }
   ],
   "source": [
    "tulemusSpam"
   ]
  },
  {
   "cell_type": "code",
   "execution_count": 14,
   "id": "f6783a6c-5157-45d2-81b1-7a0acfdc042a",
   "metadata": {},
   "outputs": [
    {
     "name": "stderr",
     "output_type": "stream",
     "text": [
      "C:\\Users\\kasutaja\\AppData\\Local\\Temp\\ipykernel_16268\\3150217540.py:2: SettingWithCopyWarning: \n",
      "A value is trying to be set on a copy of a slice from a DataFrame\n",
      "\n",
      "See the caveats in the documentation: https://pandas.pydata.org/pandas-docs/stable/user_guide/indexing.html#returning-a-view-versus-a-copy\n",
      "  TulemusNotSpam.sort_values(by='count_spam', ascending=False, inplace=True)\n"
     ]
    }
   ],
   "source": [
    "TulemusNotSpam=Words_Merged_df[Words_Merged_df[\"count_spam\"]*10*Multiplier < Words_Merged_df[\"count_notspam\"]]\n",
    "TulemusNotSpam.sort_values(by='count_spam', ascending=False, inplace=True)"
   ]
  },
  {
   "cell_type": "code",
   "execution_count": 15,
   "id": "a2814b34-33e4-4e9f-a0eb-530d4eaa23b8",
   "metadata": {},
   "outputs": [
    {
     "data": {
      "text/html": [
       "<div>\n",
       "<style scoped>\n",
       "    .dataframe tbody tr th:only-of-type {\n",
       "        vertical-align: middle;\n",
       "    }\n",
       "\n",
       "    .dataframe tbody tr th {\n",
       "        vertical-align: top;\n",
       "    }\n",
       "\n",
       "    .dataframe thead th {\n",
       "        text-align: right;\n",
       "    }\n",
       "</style>\n",
       "<table border=\"1\" class=\"dataframe\">\n",
       "  <thead>\n",
       "    <tr style=\"text-align: right;\">\n",
       "      <th></th>\n",
       "      <th>word</th>\n",
       "      <th>count_spam</th>\n",
       "      <th>count_notspam</th>\n",
       "    </tr>\n",
       "  </thead>\n",
       "  <tbody>\n",
       "    <tr>\n",
       "      <th>930</th>\n",
       "      <td>original</td>\n",
       "      <td>2656</td>\n",
       "      <td>61451</td>\n",
       "    </tr>\n",
       "    <tr>\n",
       "      <th>1201</th>\n",
       "      <td>org</td>\n",
       "      <td>2035</td>\n",
       "      <td>47113</td>\n",
       "    </tr>\n",
       "    <tr>\n",
       "      <th>1810</th>\n",
       "      <td>october</td>\n",
       "      <td>1264</td>\n",
       "      <td>24676</td>\n",
       "    </tr>\n",
       "    <tr>\n",
       "      <th>1824</th>\n",
       "      <td>ect</td>\n",
       "      <td>1248</td>\n",
       "      <td>35621</td>\n",
       "    </tr>\n",
       "    <tr>\n",
       "      <th>1929</th>\n",
       "      <td>wednesday</td>\n",
       "      <td>1154</td>\n",
       "      <td>22424</td>\n",
       "    </tr>\n",
       "    <tr>\n",
       "      <th>...</th>\n",
       "      <td>...</td>\n",
       "      <td>...</td>\n",
       "      <td>...</td>\n",
       "    </tr>\n",
       "    <tr>\n",
       "      <th>69201</th>\n",
       "      <td>maggi</td>\n",
       "      <td>1</td>\n",
       "      <td>6358</td>\n",
       "    </tr>\n",
       "    <tr>\n",
       "      <th>69196</th>\n",
       "      <td>5526</td>\n",
       "      <td>1</td>\n",
       "      <td>24</td>\n",
       "    </tr>\n",
       "    <tr>\n",
       "      <th>69194</th>\n",
       "      <td>denotes</td>\n",
       "      <td>1</td>\n",
       "      <td>32</td>\n",
       "    </tr>\n",
       "    <tr>\n",
       "      <th>69188</th>\n",
       "      <td>delegations</td>\n",
       "      <td>1</td>\n",
       "      <td>47</td>\n",
       "    </tr>\n",
       "    <tr>\n",
       "      <th>78225</th>\n",
       "      <td>myste</td>\n",
       "      <td>1</td>\n",
       "      <td>30</td>\n",
       "    </tr>\n",
       "  </tbody>\n",
       "</table>\n",
       "<p>5072 rows × 3 columns</p>\n",
       "</div>"
      ],
      "text/plain": [
       "              word  count_spam  count_notspam\n",
       "930       original        2656          61451\n",
       "1201           org        2035          47113\n",
       "1810       october        1264          24676\n",
       "1824           ect        1248          35621\n",
       "1929     wednesday        1154          22424\n",
       "...            ...         ...            ...\n",
       "69201        maggi           1           6358\n",
       "69196         5526           1             24\n",
       "69194      denotes           1             32\n",
       "69188  delegations           1             47\n",
       "78225        myste           1             30\n",
       "\n",
       "[5072 rows x 3 columns]"
      ]
     },
     "execution_count": 15,
     "metadata": {},
     "output_type": "execute_result"
    }
   ],
   "source": [
    "TulemusNotSpam"
   ]
  }
 ],
 "metadata": {
  "kernelspec": {
   "display_name": "Python 3 (ipykernel)",
   "language": "python",
   "name": "python3"
  },
  "language_info": {
   "codemirror_mode": {
    "name": "ipython",
    "version": 3
   },
   "file_extension": ".py",
   "mimetype": "text/x-python",
   "name": "python",
   "nbconvert_exporter": "python",
   "pygments_lexer": "ipython3",
   "version": "3.12.4"
  }
 },
 "nbformat": 4,
 "nbformat_minor": 5
}
