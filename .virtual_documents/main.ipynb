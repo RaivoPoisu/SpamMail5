import numpy as np
import pandas as pd
from collections import Counter
import ast
SpamData1 = pd.read_csv("spam.csv")
SpamData2 = pd.read_csv("First_big_data.csv")
SpamData3=  pd.read_csv("Second_big_data.csv")


SpamData1["Category"]=SpamData1["Category"].apply(lambda x: 0 if x=="ham" else 1)
SpamData1.rename(columns={'Category': 'label'}, inplace=True)
SpamData1.rename(columns={'Message': 'text'}, inplace=True)


SpamData= pd.merge(SpamData3, pd.merge(SpamData1, SpamData2, how='outer'), how='outer')


SpamData["arr"]= SpamData["text"].apply(lambda x: x.split(" "))


all_words = [word for sublist in SpamData[SpamData["label"]==1]['arr'] for word in sublist]  # Flatten the lists
word_counts = Counter(all_words)

# Convert the word counts to a DataFrame for better presentation
word_count_spam_df = pd.DataFrame(word_counts.items(), columns=['word', 'count'])
word_count_spam_df.sort_values(by='count', ascending=False, inplace=True)


all_words = [word for sublist in SpamData[SpamData["label"]==0]['arr'] for word in sublist]  # Flatten the lists
word_counts = Counter(all_words)

# Convert the word counts to a DataFrame for better presentation
word_count_nospam_df = pd.DataFrame(word_counts.items(), columns=['word', 'count'])
word_count_nospam_df.sort_values(by='count', ascending=False, inplace=True)


word_count_spam_df


word_count_nospam_df


#SpamData.to_csv("SpamDataMerged.csv", index=False)
