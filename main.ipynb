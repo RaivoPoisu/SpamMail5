{
 "cells": [
  {
   "cell_type": "code",
   "execution_count": 2,
   "id": "c7628f53-2ba9-4fa4-8908-3e542f2f229f",
   "metadata": {},
   "outputs": [
    {
     "name": "stdout",
     "output_type": "stream",
     "text": [
      "Collecting kagglehub\n",
      "  Downloading kagglehub-0.3.4-py3-none-any.whl.metadata (22 kB)\n",
      "Requirement already satisfied: packaging in /home/kaarentenson/PythonV/venv/lib/python3.12/site-packages (from kagglehub) (24.2)\n",
      "Requirement already satisfied: requests in /home/kaarentenson/PythonV/venv/lib/python3.12/site-packages (from kagglehub) (2.32.3)\n",
      "Collecting tqdm (from kagglehub)\n",
      "  Downloading tqdm-4.67.0-py3-none-any.whl.metadata (57 kB)\n",
      "\u001b[2K     \u001b[38;2;114;156;31m━━━━━━━━━━━━━━━━━━━━━━━━━━━━━━━━━━━━━━━━\u001b[0m \u001b[32m57.6/57.6 kB\u001b[0m \u001b[31m2.0 MB/s\u001b[0m eta \u001b[36m0:00:00\u001b[0m\n",
      "\u001b[?25hRequirement already satisfied: charset-normalizer<4,>=2 in /home/kaarentenson/PythonV/venv/lib/python3.12/site-packages (from requests->kagglehub) (3.4.0)\n",
      "Requirement already satisfied: idna<4,>=2.5 in /home/kaarentenson/PythonV/venv/lib/python3.12/site-packages (from requests->kagglehub) (3.10)\n",
      "Requirement already satisfied: urllib3<3,>=1.21.1 in /home/kaarentenson/PythonV/venv/lib/python3.12/site-packages (from requests->kagglehub) (2.2.3)\n",
      "Requirement already satisfied: certifi>=2017.4.17 in /home/kaarentenson/PythonV/venv/lib/python3.12/site-packages (from requests->kagglehub) (2024.8.30)\n",
      "Downloading kagglehub-0.3.4-py3-none-any.whl (43 kB)\n",
      "\u001b[2K   \u001b[38;2;114;156;31m━━━━━━━━━━━━━━━━━━━━━━━━━━━━━━━━━━━━━━━━\u001b[0m \u001b[32m43.0/43.0 kB\u001b[0m \u001b[31m1.9 MB/s\u001b[0m eta \u001b[36m0:00:00\u001b[0m\n",
      "\u001b[?25hDownloading tqdm-4.67.0-py3-none-any.whl (78 kB)\n",
      "\u001b[2K   \u001b[38;2;114;156;31m━━━━━━━━━━━━━━━━━━━━━━━━━━━━━━━━━━━━━━━━\u001b[0m \u001b[32m78.6/78.6 kB\u001b[0m \u001b[31m3.4 MB/s\u001b[0m eta \u001b[36m0:00:00\u001b[0m\n",
      "\u001b[?25hInstalling collected packages: tqdm, kagglehub\n",
      "Successfully installed kagglehub-0.3.4 tqdm-4.67.0\n"
     ]
    },
    {
     "name": "stderr",
     "output_type": "stream",
     "text": [
      "/home/kaarentenson/PythonV/venv/lib/python3.12/site-packages/tqdm/auto.py:21: TqdmWarning: IProgress not found. Please update jupyter and ipywidgets. See https://ipywidgets.readthedocs.io/en/stable/user_install.html\n",
      "  from .autonotebook import tqdm as notebook_tqdm\n"
     ]
    },
    {
     "name": "stdout",
     "output_type": "stream",
     "text": [
      "Downloading from https://www.kaggle.com/api/v1/datasets/download/meruvulikith/190k-spam-ham-email-dataset-for-classification?dataset_version_number=1...\n"
     ]
    },
    {
     "name": "stderr",
     "output_type": "stream",
     "text": [
      "100%|██████████████████████████████████████████████████████| 107M/107M [00:55<00:00, 2.01MB/s]"
     ]
    },
    {
     "name": "stdout",
     "output_type": "stream",
     "text": [
      "Extracting files...\n"
     ]
    },
    {
     "name": "stderr",
     "output_type": "stream",
     "text": [
      "\n"
     ]
    },
    {
     "name": "stdout",
     "output_type": "stream",
     "text": [
      "Path to dataset files: /home/kaarentenson/.cache/kagglehub/datasets/meruvulikith/190k-spam-ham-email-dataset-for-classification/versions/1\n"
     ]
    }
   ],
   "source": [
    "#suur dataset, mdea kui hea kvaliteet, aga sitaks andmeid\n",
    "!pip install kagglehub\n",
    "import kagglehub\n",
    "\n",
    "# Download latest version\n",
    "path = kagglehub.dataset_download(\"meruvulikith/190k-spam-ham-email-dataset-for-classification\")\n",
    "\n",
    "!mv {path} ."
   ]
  },
  {
   "cell_type": "code",
   "execution_count": 13,
   "id": "a4da706d-3c69-4ca8-aa60-13ae808b6d72",
   "metadata": {},
   "outputs": [],
   "source": [
    "import numpy as np\n",
    "import pandas as pd\n",
    "from collections import Counter\n",
    "import ast\n",
    "SpamData1 = pd.read_csv(\"spam.csv\")\n",
    "SpamData2 = pd.read_csv(\"First_big_data.csv\")\n",
    "SpamData3=  pd.read_csv(\"Second_big_data.csv\")"
   ]
  },
  {
   "cell_type": "code",
   "execution_count": 14,
   "id": "c4683ae3-54fc-4428-a0b9-7fc0dcefa469",
   "metadata": {},
   "outputs": [],
   "source": [
    "SpamData1[\"Category\"]=SpamData1[\"Category\"].apply(lambda x: 0 if x==\"ham\" else 1)\n",
    "SpamData1.rename(columns={'Category': 'label'}, inplace=True)\n",
    "SpamData1.rename(columns={'Message': 'text'}, inplace=True)"
   ]
  },
  {
   "cell_type": "code",
   "execution_count": 15,
   "id": "bb001b20-b4ab-4187-b512-d1c569cc0502",
   "metadata": {},
   "outputs": [],
   "source": [
    "SpamData= pd.merge(SpamData3, pd.merge(SpamData1, SpamData2, how='outer'), how='outer')"
   ]
  },
  {
   "cell_type": "code",
   "execution_count": 16,
   "id": "ce832f89-ec8d-4830-9c79-163c0f0778b9",
   "metadata": {},
   "outputs": [],
   "source": [
    "SpamData[\"arr\"]= SpamData[\"text\"].apply(lambda x: x.split(\" \"))"
   ]
  },
  {
   "cell_type": "code",
   "execution_count": 22,
   "id": "4e0d8a41-2e6a-4b8c-a11f-322c7537c8cf",
   "metadata": {},
   "outputs": [],
   "source": [
    "all_words = [word for sublist in SpamData[SpamData[\"label\"]==1]['arr'] for word in sublist]  # Flatten the lists\n",
    "word_counts = Counter(all_words)\n",
    "\n",
    "# Convert the word counts to a DataFrame for better presentation\n",
    "word_count_spam_df = pd.DataFrame(word_counts.items(), columns=['word', 'count'])\n",
    "word_count_spam_df.sort_values(by='count', ascending=False, inplace=True)"
   ]
  },
  {
   "cell_type": "code",
   "execution_count": 25,
   "id": "c7bd6b66-df85-460d-b89d-36e1281d1be8",
   "metadata": {},
   "outputs": [],
   "source": [
    "all_words = [word for sublist in SpamData[SpamData[\"label\"]==0]['arr'] for word in sublist]  # Flatten the lists\n",
    "word_counts = Counter(all_words)\n",
    "\n",
    "# Convert the word counts to a DataFrame for better presentation\n",
    "word_count_nospam_df = pd.DataFrame(word_counts.items(), columns=['word', 'count'])\n",
    "word_count_nospam_df.sort_values(by='count', ascending=False, inplace=True)"
   ]
  },
  {
   "cell_type": "code",
   "execution_count": 24,
   "id": "74efc44f-9529-4718-93de-7e40c1f5406c",
   "metadata": {},
   "outputs": [
    {
     "data": {
      "text/html": [
       "<div>\n",
       "<style scoped>\n",
       "    .dataframe tbody tr th:only-of-type {\n",
       "        vertical-align: middle;\n",
       "    }\n",
       "\n",
       "    .dataframe tbody tr th {\n",
       "        vertical-align: top;\n",
       "    }\n",
       "\n",
       "    .dataframe thead th {\n",
       "        text-align: right;\n",
       "    }\n",
       "</style>\n",
       "<table border=\"1\" class=\"dataframe\">\n",
       "  <thead>\n",
       "    <tr style=\"text-align: right;\">\n",
       "      <th></th>\n",
       "      <th>word</th>\n",
       "      <th>count</th>\n",
       "    </tr>\n",
       "  </thead>\n",
       "  <tbody>\n",
       "    <tr>\n",
       "      <th>1256</th>\n",
       "      <td>escapenumber</td>\n",
       "      <td>333179</td>\n",
       "    </tr>\n",
       "    <tr>\n",
       "      <th>69</th>\n",
       "      <td>the</td>\n",
       "      <td>253692</td>\n",
       "    </tr>\n",
       "    <tr>\n",
       "      <th>85</th>\n",
       "      <td>escapelong</td>\n",
       "      <td>188102</td>\n",
       "    </tr>\n",
       "    <tr>\n",
       "      <th>76</th>\n",
       "      <td>to</td>\n",
       "      <td>175138</td>\n",
       "    </tr>\n",
       "    <tr>\n",
       "      <th>115</th>\n",
       "      <td>and</td>\n",
       "      <td>159291</td>\n",
       "    </tr>\n",
       "    <tr>\n",
       "      <th>...</th>\n",
       "      <td>...</td>\n",
       "      <td>...</td>\n",
       "    </tr>\n",
       "    <tr>\n",
       "      <th>125387</th>\n",
       "      <td>iwzmoumqtfnv</td>\n",
       "      <td>1</td>\n",
       "    </tr>\n",
       "    <tr>\n",
       "      <th>125388</th>\n",
       "      <td>totalhousingloans</td>\n",
       "      <td>1</td>\n",
       "    </tr>\n",
       "    <tr>\n",
       "      <th>125389</th>\n",
       "      <td>mevuck</td>\n",
       "      <td>1</td>\n",
       "    </tr>\n",
       "    <tr>\n",
       "      <th>125391</th>\n",
       "      <td>ruxrxyrxypvw</td>\n",
       "      <td>1</td>\n",
       "    </tr>\n",
       "    <tr>\n",
       "      <th>125392</th>\n",
       "      <td>yvypidhtmv</td>\n",
       "      <td>1</td>\n",
       "    </tr>\n",
       "  </tbody>\n",
       "</table>\n",
       "<p>316598 rows × 2 columns</p>\n",
       "</div>"
      ],
      "text/plain": [
       "                     word   count\n",
       "1256         escapenumber  333179\n",
       "69                    the  253692\n",
       "85             escapelong  188102\n",
       "76                     to  175138\n",
       "115                   and  159291\n",
       "...                   ...     ...\n",
       "125387       iwzmoumqtfnv       1\n",
       "125388  totalhousingloans       1\n",
       "125389             mevuck       1\n",
       "125391       ruxrxyrxypvw       1\n",
       "125392         yvypidhtmv       1\n",
       "\n",
       "[316598 rows x 2 columns]"
      ]
     },
     "execution_count": 24,
     "metadata": {},
     "output_type": "execute_result"
    }
   ],
   "source": [
    "word_count_spam_df"
   ]
  },
  {
   "cell_type": "code",
   "execution_count": 26,
   "id": "50ae6a2a-952d-462c-ac17-58c2b03e1f64",
   "metadata": {},
   "outputs": [
    {
     "data": {
      "text/html": [
       "<div>\n",
       "<style scoped>\n",
       "    .dataframe tbody tr th:only-of-type {\n",
       "        vertical-align: middle;\n",
       "    }\n",
       "\n",
       "    .dataframe tbody tr th {\n",
       "        vertical-align: top;\n",
       "    }\n",
       "\n",
       "    .dataframe thead th {\n",
       "        text-align: right;\n",
       "    }\n",
       "</style>\n",
       "<table border=\"1\" class=\"dataframe\">\n",
       "  <thead>\n",
       "    <tr style=\"text-align: right;\">\n",
       "      <th></th>\n",
       "      <th>word</th>\n",
       "      <th>count</th>\n",
       "    </tr>\n",
       "  </thead>\n",
       "  <tbody>\n",
       "    <tr>\n",
       "      <th>316</th>\n",
       "      <td>escapenumber</td>\n",
       "      <td>798212</td>\n",
       "    </tr>\n",
       "    <tr>\n",
       "      <th>44</th>\n",
       "      <td>the</td>\n",
       "      <td>437467</td>\n",
       "    </tr>\n",
       "    <tr>\n",
       "      <th>4</th>\n",
       "      <td>to</td>\n",
       "      <td>280689</td>\n",
       "    </tr>\n",
       "    <tr>\n",
       "      <th>143</th>\n",
       "      <td>-</td>\n",
       "      <td>271222</td>\n",
       "    </tr>\n",
       "    <tr>\n",
       "      <th>14</th>\n",
       "      <td>,</td>\n",
       "      <td>188493</td>\n",
       "    </tr>\n",
       "    <tr>\n",
       "      <th>...</th>\n",
       "      <td>...</td>\n",
       "      <td>...</td>\n",
       "    </tr>\n",
       "    <tr>\n",
       "      <th>270729</th>\n",
       "      <td>®é¡aagent</td>\n",
       "      <td>1</td>\n",
       "    </tr>\n",
       "    <tr>\n",
       "      <th>270728</th>\n",
       "      <td></td>\n",
       "      <td>1</td>\n",
       "    </tr>\n",
       "    <tr>\n",
       "      <th>270751</th>\n",
       "      <td>escapenumberspno</td>\n",
       "      <td>1</td>\n",
       "    </tr>\n",
       "    <tr>\n",
       "      <th>270750</th>\n",
       "      <td>seedfor</td>\n",
       "      <td>1</td>\n",
       "    </tr>\n",
       "    <tr>\n",
       "      <th>270749</th>\n",
       "      <td>wherepeople</td>\n",
       "      <td>1</td>\n",
       "    </tr>\n",
       "  </tbody>\n",
       "</table>\n",
       "<p>270760 rows × 2 columns</p>\n",
       "</div>"
      ],
      "text/plain": [
       "                    word   count\n",
       "316         escapenumber  798212\n",
       "44                   the  437467\n",
       "4                     to  280689\n",
       "143                    -  271222\n",
       "14                     ,  188493\n",
       "...                  ...     ...\n",
       "270729         ®é¡aagent       1\n",
       "270728                        1\n",
       "270751  escapenumberspno       1\n",
       "270750           seedfor       1\n",
       "270749       wherepeople       1\n",
       "\n",
       "[270760 rows x 2 columns]"
      ]
     },
     "execution_count": 26,
     "metadata": {},
     "output_type": "execute_result"
    }
   ],
   "source": [
    "word_count_nospam_df"
   ]
  },
  {
   "cell_type": "code",
   "execution_count": 6,
   "id": "58741385-cd4f-4335-a687-9fe46aff7150",
   "metadata": {},
   "outputs": [],
   "source": [
    "#SpamData.to_csv(\"SpamDataMerged.csv\", index=False)"
   ]
  }
 ],
 "metadata": {
  "kernelspec": {
   "display_name": "Python 3 (ipykernel)",
   "language": "python",
   "name": "python3"
  },
  "language_info": {
   "codemirror_mode": {
    "name": "ipython",
    "version": 3
   },
   "file_extension": ".py",
   "mimetype": "text/x-python",
   "name": "python",
   "nbconvert_exporter": "python",
   "pygments_lexer": "ipython3",
   "version": "3.12.3"
  }
 },
 "nbformat": 4,
 "nbformat_minor": 5
}
