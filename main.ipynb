{
 "cells": [
  {
   "cell_type": "code",
   "execution_count": 1,
   "id": "c7628f53-2ba9-4fa4-8908-3e542f2f229f",
   "metadata": {},
   "outputs": [
    {
     "name": "stdout",
     "output_type": "stream",
     "text": [
      "Requirement already satisfied: kagglehub in c:\\users\\anold\\anaconda3\\lib\\site-packages (0.3.4)\n",
      "Requirement already satisfied: packaging in c:\\users\\anold\\anaconda3\\lib\\site-packages (from kagglehub) (23.2)\n",
      "Requirement already satisfied: requests in c:\\users\\anold\\anaconda3\\lib\\site-packages (from kagglehub) (2.32.2)\n",
      "Requirement already satisfied: tqdm in c:\\users\\anold\\anaconda3\\lib\\site-packages (from kagglehub) (4.66.4)\n",
      "Requirement already satisfied: charset-normalizer<4,>=2 in c:\\users\\anold\\anaconda3\\lib\\site-packages (from requests->kagglehub) (2.0.4)\n",
      "Requirement already satisfied: idna<4,>=2.5 in c:\\users\\anold\\anaconda3\\lib\\site-packages (from requests->kagglehub) (3.7)\n",
      "Requirement already satisfied: urllib3<3,>=1.21.1 in c:\\users\\anold\\anaconda3\\lib\\site-packages (from requests->kagglehub) (2.2.2)\n",
      "Requirement already satisfied: certifi>=2017.4.17 in c:\\users\\anold\\anaconda3\\lib\\site-packages (from requests->kagglehub) (2024.8.30)\n",
      "Requirement already satisfied: colorama in c:\\users\\anold\\anaconda3\\lib\\site-packages (from tqdm->kagglehub) (0.4.6)\n"
     ]
    },
    {
     "name": "stderr",
     "output_type": "stream",
     "text": [
      "'mv' is not recognized as an internal or external command,\n",
      "operable program or batch file.\n"
     ]
    }
   ],
   "source": [
    "#suur dataset, mdea kui hea kvaliteet, aga sitaks andmeid\n",
    "!pip install kagglehub\n",
    "import kagglehub\n",
    "\n",
    "path = kagglehub.dataset_download(\"meruvulikith/190k-spam-ham-email-dataset-for-classification\")\n",
    "\n",
    "!mv {path} ."
   ]
  },
  {
   "cell_type": "code",
   "execution_count": null,
   "id": "244c37c8-4d8f-438d-8057-19f193cd0927",
   "metadata": {},
   "outputs": [],
   "source": [
    "!move {path} ."
   ]
  },
  {
   "cell_type": "code",
   "execution_count": 2,
   "id": "a4da706d-3c69-4ca8-aa60-13ae808b6d72",
   "metadata": {},
   "outputs": [],
   "source": [
    "import numpy as np\n",
    "import pandas as pd\n",
    "import ast\n",
    "import importlib\n",
    "SpamData= pd.read_csv(\"spam_Emails_data.csv\")"
   ]
  },
  {
   "cell_type": "code",
   "execution_count": 3,
   "id": "5364936e-e5b5-4459-bd2b-780012351c73",
   "metadata": {},
   "outputs": [],
   "source": [
    "SpamData[\"label\"]=SpamData[\"label\"].apply(lambda x: 0 if x==\"Ham\" else 1)\n",
    "SpamData[\"text\"]=SpamData[\"text\"].apply(lambda x:x if not isinstance(x, (int, float, complex)) and not isinstance(x, bool) else str(x)) "
   ]
  },
  {
   "cell_type": "code",
   "execution_count": 6,
   "id": "ba86f19f-5f6a-45d3-8cf8-bedbab1abcc4",
   "metadata": {},
   "outputs": [],
   "source": [
    "SpamDataModel= SpamData.copy()\n",
    "SpamDataModel2= SpamData.copy()\n",
    "SpamDataAnalyse = SpamData.copy()"
   ]
  },
  {
   "cell_type": "code",
   "execution_count": null,
   "id": "fd281d1f",
   "metadata": {},
   "outputs": [],
   "source": [
    "# NEURAL\n",
    "\n",
    "#PRAEGU TRAIN SPAMDATAMODEL JA TEST SPAMDATATEST\n",
    "\n",
    "\n",
    "\n"
   ]
  },
  {
   "cell_type": "code",
   "execution_count": 7,
   "id": "c2fa6541",
   "metadata": {},
   "outputs": [
    {
     "name": "stderr",
     "output_type": "stream",
     "text": [
      "c:\\Users\\anold\\anaconda3\\Lib\\site-packages\\keras\\src\\layers\\core\\dense.py:87: UserWarning: Do not pass an `input_shape`/`input_dim` argument to a layer. When using Sequential models, prefer using an `Input(shape)` object as the first layer in the model instead.\n",
      "  super().__init__(activity_regularizer=activity_regularizer, **kwargs)\n"
     ]
    },
    {
     "name": "stdout",
     "output_type": "stream",
     "text": [
      "Epoch 1/5\n",
      "\u001b[1m1948/1948\u001b[0m \u001b[32m━━━━━━━━━━━━━━━━━━━━\u001b[0m\u001b[37m\u001b[0m \u001b[1m41s\u001b[0m 20ms/step - accuracy: 0.9284 - loss: 0.1677 - val_accuracy: 0.9711 - val_loss: 0.0719\n",
      "Epoch 2/5\n",
      "\u001b[1m1948/1948\u001b[0m \u001b[32m━━━━━━━━━━━━━━━━━━━━\u001b[0m\u001b[37m\u001b[0m \u001b[1m38s\u001b[0m 19ms/step - accuracy: 0.9795 - loss: 0.0512 - val_accuracy: 0.9725 - val_loss: 0.0698\n",
      "Epoch 3/5\n",
      "\u001b[1m1948/1948\u001b[0m \u001b[32m━━━━━━━━━━━━━━━━━━━━\u001b[0m\u001b[37m\u001b[0m \u001b[1m37s\u001b[0m 19ms/step - accuracy: 0.9882 - loss: 0.0304 - val_accuracy: 0.9758 - val_loss: 0.0729\n",
      "Epoch 4/5\n",
      "\u001b[1m1948/1948\u001b[0m \u001b[32m━━━━━━━━━━━━━━━━━━━━\u001b[0m\u001b[37m\u001b[0m \u001b[1m34s\u001b[0m 17ms/step - accuracy: 0.9913 - loss: 0.0209 - val_accuracy: 0.9759 - val_loss: 0.0847\n",
      "Epoch 5/5\n",
      "\u001b[1m1948/1948\u001b[0m \u001b[32m━━━━━━━━━━━━━━━━━━━━\u001b[0m\u001b[37m\u001b[0m \u001b[1m39s\u001b[0m 20ms/step - accuracy: 0.9941 - loss: 0.0147 - val_accuracy: 0.9764 - val_loss: 0.1057\n",
      "\u001b[1m835/835\u001b[0m \u001b[32m━━━━━━━━━━━━━━━━━━━━\u001b[0m\u001b[37m\u001b[0m \u001b[1m2s\u001b[0m 2ms/step - accuracy: 0.9748 - loss: 0.1145\n",
      "Test Loss: 0.10570963472127914\n",
      "Test Accuracy: 0.9764097929000854\n",
      "\u001b[1m835/835\u001b[0m \u001b[32m━━━━━━━━━━━━━━━━━━━━\u001b[0m\u001b[37m\u001b[0m \u001b[1m2s\u001b[0m 2ms/step\n",
      "Precision: 0.9755376542753676\n",
      "Predictions: [[1]\n",
      " [0]\n",
      " [1]\n",
      " ...\n",
      " [0]\n",
      " [0]\n",
      " [0]]\n"
     ]
    }
   ],
   "source": [
    "#Uus\n",
    "import Model\n",
    "importlib.reload(Model)\n",
    "Neural, Nvector=Model.Neural_Model(SpamDataModel)\n"
   ]
  },
  {
   "cell_type": "code",
   "execution_count": 8,
   "id": "5bc394b8",
   "metadata": {},
   "outputs": [],
   "source": [
    "importlib.reload(Model)\n",
    "Model.SaveModel({'model': Neural, 'vectorizer': Nvector},\"Neural\")"
   ]
  },
  {
   "cell_type": "code",
   "execution_count": 3,
   "id": "c85d2b05",
   "metadata": {},
   "outputs": [],
   "source": [
    "import Model\n",
    "import importlib\n",
    "importlib.reload(Model)\n",
    "Neural, Nvector=Model.ReadModel2(\"Neural\")"
   ]
  },
  {
   "cell_type": "code",
   "execution_count": null,
   "id": "2cecf9d4",
   "metadata": {},
   "outputs": [],
   "source": [
    "##\n",
    "\n",
    "\n",
    "\n",
    "\n",
    "\n",
    "\n",
    "\n",
    "\n",
    "\n",
    "\n",
    "#  RandomForest"
   ]
  },
  {
   "cell_type": "code",
   "execution_count": 9,
   "id": "8848fd93-8a85-4ab0-b1f9-6abd30b0065b",
   "metadata": {},
   "outputs": [
    {
     "name": "stdout",
     "output_type": "stream",
     "text": [
      "Accuracy: 97.45%\n"
     ]
    }
   ],
   "source": [
    "import Model\n",
    "importlib.reload(Model)\n",
    "modelRF=Model.RandomForestModel(SpamDataModel)"
   ]
  },
  {
   "cell_type": "code",
   "execution_count": 10,
   "id": "d96137a9",
   "metadata": {},
   "outputs": [],
   "source": [
    "importlib.reload(Model)\n",
    "Model.SaveModel(modelRF,\"RandomForestSec\")"
   ]
  },
  {
   "cell_type": "code",
   "execution_count": 13,
   "id": "48bd1ac5",
   "metadata": {},
   "outputs": [],
   "source": [
    "importlib.reload(Model)\n",
    "modelRF=Model.ReadModel(\"RandomForestSec\")"
   ]
  },
  {
   "cell_type": "code",
   "execution_count": null,
   "id": "cc5e402d",
   "metadata": {},
   "outputs": [],
   "source": [
    "##############\n",
    "\n",
    "\n",
    "\n",
    "\n",
    "\n",
    "\n",
    "\n",
    "#SVM"
   ]
  },
  {
   "cell_type": "code",
   "execution_count": 11,
   "id": "382970c9",
   "metadata": {},
   "outputs": [
    {
     "name": "stdout",
     "output_type": "stream",
     "text": [
      "Accuracy:   96.67%\n"
     ]
    }
   ],
   "source": [
    "import Model\n",
    "importlib.reload(Model)\n",
    "SVModel=Model.SVM_Model(SpamDataModel)"
   ]
  },
  {
   "cell_type": "code",
   "execution_count": 12,
   "id": "07a085da",
   "metadata": {},
   "outputs": [],
   "source": [
    "importlib.reload(Model)\n",
    "Model.SaveModel(SVModel,\"SVM\")"
   ]
  },
  {
   "cell_type": "code",
   "execution_count": null,
   "id": "d42ef06b",
   "metadata": {},
   "outputs": [],
   "source": [
    "###############\n",
    "\n",
    "\n",
    "\n",
    "\n",
    "\n",
    "\n",
    "\n",
    "\n",
    "\n",
    "##############    3 model prediction"
   ]
  },
  {
   "cell_type": "code",
   "execution_count": 21,
   "id": "cdd956ef",
   "metadata": {},
   "outputs": [
    {
     "name": "stdout",
     "output_type": "stream",
     "text": [
      "\u001b[1m6058/6058\u001b[0m \u001b[32m━━━━━━━━━━━━━━━━━━━━\u001b[0m\u001b[37m\u001b[0m \u001b[1m10s\u001b[0m 2ms/step\n",
      "Accuracy: 50.61%\n",
      "Precision: 0.48\n"
     ]
    }
   ],
   "source": [
    "import Model\n",
    "importlib.reload(Model)\n",
    "final_pred=Model.MajorityVotingModel(SpamDataTest, modelRF, SVModel, Neural)"
   ]
  },
  {
   "cell_type": "code",
   "execution_count": null,
   "id": "0a24a74c",
   "metadata": {},
   "outputs": [],
   "source": [
    "#############33\n",
    "\n",
    "\n",
    "\n",
    "#Plots\n",
    "\n",
    "\n",
    "\n",
    "#############3"
   ]
  },
  {
   "cell_type": "code",
   "execution_count": 18,
   "id": "38835e2b",
   "metadata": {},
   "outputs": [
    {
     "data": {
      "image/png": "[encoded data removed]",
      "text/plain": [
       "<Figure size 1000x600 with 1 Axes>"
      ]
     },
     "metadata": {},
     "output_type": "display_data"
    }
   ],
   "source": [
    "import matplotlib.pyplot as plt\n",
    "\n",
    "# Accuracy\n",
    "accuracies = [50, 55, 64, 80]\n",
    "model_names = ['Random Forest', 'SVM', 'Neural Network', 'Majority Voting']\n",
    "\n",
    "plt.figure(figsize=(10, 6))\n",
    "plt.bar(model_names, accuracies, color=['blue', 'green', 'orange', 'red'])\n",
    "plt.xlabel('Models')\n",
    "plt.ylabel('Accuracy')\n",
    "plt.title('Accuracy Comparison of Models')\n",
    "plt.ylim(0, 1)\n",
    "plt.show()"
   ]
  },
  {
   "cell_type": "code",
   "execution_count": 19,
   "id": "7cf9a0d0",
   "metadata": {},
   "outputs": [
    {
     "data": {
      "image/png": "[encoded data removed]",
      "text/plain": [
       "<Figure size 1000x600 with 1 Axes>"
      ]
     },
     "metadata": {},
     "output_type": "display_data"
    }
   ],
   "source": [
    "import matplotlib.pyplot as plt\n",
    "\n",
    "model_names = ['Random Forest', 'SVM', 'Neural Network', 'Majority Voting']\n",
    "precisions = [62,70,36,80]\n",
    "\n",
    "plt.figure(figsize=(10, 6))\n",
    "plt.bar(model_names, precisions, color=['blue', 'green', 'orange', 'red'])\n",
    "plt.xlabel('Models')\n",
    "plt.ylabel('Precision')\n",
    "plt.title('Precision Comparison of Models')\n",
    "plt.ylim(0, 1)\n",
    "plt.show()"
   ]
  },
  {
   "cell_type": "code",
   "execution_count": null,
   "id": "72d03e54",
   "metadata": {},
   "outputs": [],
   "source": [
    "from sklearn.metrics import confusion_matrix\n",
    "import seaborn as sns\n",
    "\n",
    "y_test=SpamDataTest[\"label\"]\n",
    "\n",
    "\n",
    "# Confusion matrix for each model\n",
    "cm_rf = confusion_matrix(y_test, rf_pred)\n",
    "cm_svm = confusion_matrix(y_test, svm_pred)\n",
    "cm_nn = confusion_matrix(y_test, nn_pred)\n",
    "#cm_combined = confusion_matrix(y_test, final_pred)\n",
    "\n",
    "# Plotting function for confusion matrix\n",
    "def plot_confusion_matrix(cm, model_name):\n",
    "    plt.figure(figsize=(6, 6))\n",
    "    sns.heatmap(cm, annot=True, fmt=\"d\", cmap=\"Blues\", xticklabels=['Not Spam', 'Spam'], yticklabels=['Not Spam', 'Spam'])\n",
    "    plt.title(f'Confusion Matrix for {model_name}')\n",
    "    plt.xlabel('Predicted')\n",
    "    plt.ylabel('True')\n",
    "    plt.show()\n",
    "\n",
    "# Plot confusion matrices\n",
    "plot_confusion_matrix(cm_rf, 'Random Forest')\n",
    "plot_confusion_matrix(cm_svm, 'SVM')\n",
    "plot_confusion_matrix(cm_nn, 'Neural Network')\n",
    "#plot_confusion_matrix(cm_combined, 'Majority Voting')"
   ]
  },
  {
   "cell_type": "code",
   "execution_count": null,
   "id": "ffdd43b4",
   "metadata": {},
   "outputs": [],
   "source": []
  },
  {
   "cell_type": "code",
   "execution_count": null,
   "id": "1571757c",
   "metadata": {},
   "outputs": [],
   "source": [
    "################\n",
    "\n",
    "\n",
    "\n",
    "\n",
    "\n",
    "\n",
    "\n",
    "\n",
    "###########"
   ]
  }
 ],
 "metadata": {
  "kernelspec": {
   "display_name": "Python 3 (ipykernel)",
   "language": "python",
   "name": "python3"
  },
  "language_info": {
   "codemirror_mode": {
    "name": "ipython",
    "version": 3
   },
   "file_extension": ".py",
   "mimetype": "text/x-python",
   "name": "python",
   "nbconvert_exporter": "python",
   "pygments_lexer": "ipython3",
   "version": "3.12.4"
  }
 },
 "nbformat": 4,
 "nbformat_minor": 5
}
