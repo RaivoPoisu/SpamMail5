{
 "cells": [
  {
   "cell_type": "code",
   "execution_count": 1,
   "id": "c7628f53-2ba9-4fa4-8908-3e542f2f229f",
   "metadata": {},
   "outputs": [
    {
     "name": "stdout",
     "output_type": "stream",
     "text": [
      "Requirement already satisfied: kagglehub in /home/kaarentenson/PythonV/venv/lib/python3.12/site-packages (0.3.4)\n",
      "Requirement already satisfied: packaging in /home/kaarentenson/PythonV/venv/lib/python3.12/site-packages (from kagglehub) (24.2)\n",
      "Requirement already satisfied: requests in /home/kaarentenson/PythonV/venv/lib/python3.12/site-packages (from kagglehub) (2.32.3)\n",
      "Requirement already satisfied: tqdm in /home/kaarentenson/PythonV/venv/lib/python3.12/site-packages (from kagglehub) (4.67.0)\n",
      "Requirement already satisfied: charset-normalizer<4,>=2 in /home/kaarentenson/PythonV/venv/lib/python3.12/site-packages (from requests->kagglehub) (3.4.0)\n",
      "Requirement already satisfied: idna<4,>=2.5 in /home/kaarentenson/PythonV/venv/lib/python3.12/site-packages (from requests->kagglehub) (3.10)\n",
      "Requirement already satisfied: urllib3<3,>=1.21.1 in /home/kaarentenson/PythonV/venv/lib/python3.12/site-packages (from requests->kagglehub) (2.2.3)\n",
      "Requirement already satisfied: certifi>=2017.4.17 in /home/kaarentenson/PythonV/venv/lib/python3.12/site-packages (from requests->kagglehub) (2024.8.30)\n"
     ]
    },
    {
     "name": "stderr",
     "output_type": "stream",
     "text": [
      "/home/kaarentenson/PythonV/venv/lib/python3.12/site-packages/tqdm/auto.py:21: TqdmWarning: IProgress not found. Please update jupyter and ipywidgets. See https://ipywidgets.readthedocs.io/en/stable/user_install.html\n",
      "  from .autonotebook import tqdm as notebook_tqdm\n"
     ]
    },
    {
     "name": "stdout",
     "output_type": "stream",
     "text": [
      "Downloading from https://www.kaggle.com/api/v1/datasets/download/meruvulikith/190k-spam-ham-email-dataset-for-classification?dataset_version_number=1...\n"
     ]
    },
    {
     "name": "stderr",
     "output_type": "stream",
     "text": [
      "100%|██████████████████████████████████████████████████████| 107M/107M [00:50<00:00, 2.20MB/s]"
     ]
    },
    {
     "name": "stdout",
     "output_type": "stream",
     "text": [
      "Extracting files...\n"
     ]
    },
    {
     "name": "stderr",
     "output_type": "stream",
     "text": [
      "\n"
     ]
    },
    {
     "name": "stdout",
     "output_type": "stream",
     "text": [
      "mv: './1' ei saa üle kirjutada: Directory not empty\n"
     ]
    }
   ],
   "source": [
    "#suur dataset, mdea kui hea kvaliteet, aga sitaks andmeid\n",
    "!pip install kagglehub\n",
    "import kagglehub\n",
    "\n",
    "# Download latest version\n",
    "path = kagglehub.dataset_download(\"meruvulikith/190k-spam-ham-email-dataset-for-classification\")\n",
    "\n",
    "!mv {path} ."
   ]
  },
  {
   "cell_type": "code",
   "execution_count": 10,
   "id": "a4da706d-3c69-4ca8-aa60-13ae808b6d72",
   "metadata": {},
   "outputs": [],
   "source": [
    "import numpy as np\n",
    "import pandas as pd\n",
    "import ast\n",
    "import importlib\n",
    "SpamData1 = pd.read_csv(\"spam.csv\")\n",
    "SpamData2 = pd.read_csv(\"First_big_data.csv\")\n",
    "SpamData3=  pd.read_csv(\"Second_big_data.csv\")"
   ]
  },
  {
   "cell_type": "code",
   "execution_count": 2,
   "id": "c4683ae3-54fc-4428-a0b9-7fc0dcefa469",
   "metadata": {},
   "outputs": [],
   "source": [
    "SpamData1[\"Category\"]=SpamData1[\"Category\"].apply(lambda x: 0 if x==\"ham\" else 1)\n",
    "SpamData1.rename(columns={'Category': 'label'}, inplace=True)\n",
    "SpamData1.rename(columns={'Message': 'text'}, inplace=True)"
   ]
  },
  {
   "cell_type": "code",
   "execution_count": 3,
   "id": "bb001b20-b4ab-4187-b512-d1c569cc0502",
   "metadata": {},
   "outputs": [],
   "source": [
    "SpamData= pd.merge(SpamData3, pd.merge(SpamData1, SpamData2, how='outer'), how='outer')"
   ]
  },
  {
   "cell_type": "code",
   "execution_count": 4,
   "id": "ba86f19f-5f6a-45d3-8cf8-bedbab1abcc4",
   "metadata": {},
   "outputs": [],
   "source": [
    "SpamDataModel= SpamData.copy()\n",
    "SpamDataAnalyse = SpamData.copy()"
   ]
  },
  {
   "cell_type": "code",
   "execution_count": null,
   "id": "8848fd93-8a85-4ab0-b1f9-6abd30b0065b",
   "metadata": {},
   "outputs": [],
   "source": [
    "import Model\n",
    "importlib.reload(Model)\n",
    "Model.RandomForestModel(SpamDataModel)"
   ]
  },
  {
   "cell_type": "code",
   "execution_count": 11,
   "id": "31f4ba4c-27b8-4c56-a0f7-9d8e9839bc80",
   "metadata": {},
   "outputs": [],
   "source": [
    "import Analyse\n",
    "importlib.reload(Analyse)\n",
    "Analyse.FindWordCounts(SpamDataAnalyse)\n"
   ]
  },
  {
   "cell_type": "code",
   "execution_count": null,
   "id": "19796a57-e979-4301-8581-ac61556c720c",
   "metadata": {},
   "outputs": [],
   "source": []
  }
 ],
 "metadata": {
  "kernelspec": {
   "display_name": "Python 3 (ipykernel)",
   "language": "python",
   "name": "python3"
  },
  "language_info": {
   "codemirror_mode": {
    "name": "ipython",
    "version": 3
   },
   "file_extension": ".py",
   "mimetype": "text/x-python",
   "name": "python",
   "nbconvert_exporter": "python",
   "pygments_lexer": "ipython3",
   "version": "3.12.3"
  }
 },
 "nbformat": 4,
 "nbformat_minor": 5
}
