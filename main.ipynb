{
 "cells": [
  {
   "cell_type": "code",
   "execution_count": 1,
   "id": "a4da706d-3c69-4ca8-aa60-13ae808b6d72",
   "metadata": {},
   "outputs": [],
   "source": [
    "import numpy as np\n",
    "import pandas as pd\n",
    "import ast\n",
    "SpamData1 = pd.read_csv(\"spam.csv\")\n",
    "SpamData2 = pd.read_csv(\"spam_ham_dataset.csv\")\n"
   ]
  },
  {
   "cell_type": "code",
   "execution_count": 2,
   "id": "c4683ae3-54fc-4428-a0b9-7fc0dcefa469",
   "metadata": {},
   "outputs": [],
   "source": [
    "SpamData1[\"Category\"]=SpamData1[\"Category\"].apply(lambda x: False if x==\"ham\" else True)\n",
    "SpamData2[\"label\"]=SpamData2[\"label\"].apply(lambda x: False if x==\"ham\" else True)"
   ]
  },
  {
   "cell_type": "code",
   "execution_count": 3,
   "id": "bb001b20-b4ab-4187-b512-d1c569cc0502",
   "metadata": {},
   "outputs": [],
   "source": [
    "SpamData2.drop(axis=0,columns= \"label_num\", inplace =True)\n",
    "SpamData2.drop(axis=0,columns= \"Unnamed: 0\", inplace =True)\n",
    "SpamData2[\"text\"]=SpamData2[\"text\"].apply(lambda x: x.split('.', 1)[-1])"
   ]
  },
  {
   "cell_type": "code",
   "execution_count": 4,
   "id": "a95ae24a-4484-4b16-8d93-0529a56225bf",
   "metadata": {},
   "outputs": [],
   "source": [
    "SpamData1.rename(columns={'Category': 'label'}, inplace=True)\n",
    "SpamData1.rename(columns={'Message': 'text'}, inplace=True)"
   ]
  },
  {
   "cell_type": "code",
   "execution_count": 5,
   "id": "e5b91302-06dc-4246-b264-0dc345d105b1",
   "metadata": {},
   "outputs": [],
   "source": [
    "SpamData= pd.merge(SpamData1, SpamData2, how='outer')"
   ]
  },
  {
   "cell_type": "code",
   "execution_count": 6,
   "id": "58741385-cd4f-4335-a687-9fe46aff7150",
   "metadata": {},
   "outputs": [],
   "source": [
    "SpamData.to_csv(\"SpamDataMerged.csv\", index=False)"
   ]
  }
 ],
 "metadata": {
  "kernelspec": {
   "display_name": "Python 3 (ipykernel)",
   "language": "python",
   "name": "python3"
  },
  "language_info": {
   "codemirror_mode": {
    "name": "ipython",
    "version": 3
   },
   "file_extension": ".py",
   "mimetype": "text/x-python",
   "name": "python",
   "nbconvert_exporter": "python",
   "pygments_lexer": "ipython3",
   "version": "3.12.3"
  }
 },
 "nbformat": 4,
 "nbformat_minor": 5
}
